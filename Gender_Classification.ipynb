{
  "nbformat": 4,
  "nbformat_minor": 0,
  "metadata": {
    "colab": {
      "provenance": []
    },
    "kernelspec": {
      "name": "python3",
      "display_name": "Python 3"
    },
    "language_info": {
      "name": "python"
    }
  },
  "cells": [
    {
      "cell_type": "markdown",
      "source": [],
      "metadata": {
        "id": "c3Mxcehszr3-"
      }
    },
    {
      "cell_type": "markdown",
      "source": [
        "Importing the Lbiraries"
      ],
      "metadata": {
        "id": "Z3l6hhtoko2o"
      }
    },
    {
      "cell_type": "code",
      "source": [
        "import numpy as np\n",
        "from tensorflow.keras.models import Sequential\n",
        "from tensorflow.keras.layers import Dense,Dropout\n",
        "import pandas as pd\n",
        "import seaborn as sns\n"
      ],
      "metadata": {
        "id": "rkmWphmK2lP0"
      },
      "execution_count": 330,
      "outputs": []
    },
    {
      "cell_type": "markdown",
      "source": [
        "Data collection & Preprocessing"
      ],
      "metadata": {
        "id": "euDudDjwkt2D"
      }
    },
    {
      "cell_type": "code",
      "source": [
        "#loading the csv data to a Pandas dataframe\n",
        "datatxt=pd.read_csv('/content/gender_classification_v7.csv')\n"
      ],
      "metadata": {
        "id": "danR6NSC3A52"
      },
      "execution_count": 331,
      "outputs": []
    },
    {
      "cell_type": "code",
      "source": [
        "#pring dataset \n",
        "datatxt"
      ],
      "metadata": {
        "colab": {
          "base_uri": "https://localhost:8080/",
          "height": 424
        },
        "id": "SVphWKvM4i1V",
        "outputId": "71ae561f-6c8b-4e58-c7c9-862055bccdc0"
      },
      "execution_count": 332,
      "outputs": [
        {
          "output_type": "execute_result",
          "data": {
            "text/plain": [
              "      long_hair  forehead_width_cm  forehead_height_cm  nose_wide  nose_long  \\\n",
              "0             1               11.8                 6.1          1          0   \n",
              "1             0               14.0                 5.4          0          0   \n",
              "2             0               11.8                 6.3          1          1   \n",
              "3             0               14.4                 6.1          0          1   \n",
              "4             1               13.5                 5.9          0          0   \n",
              "...         ...                ...                 ...        ...        ...   \n",
              "4996          1               13.6                 5.1          0          0   \n",
              "4997          1               11.9                 5.4          0          0   \n",
              "4998          1               12.9                 5.7          0          0   \n",
              "4999          1               13.2                 6.2          0          0   \n",
              "5000          1               15.4                 5.4          1          1   \n",
              "\n",
              "      lips_thin  distance_nose_to_lip_long  gender  \n",
              "0             1                          1    Male  \n",
              "1             1                          0  Female  \n",
              "2             1                          1    Male  \n",
              "3             1                          1    Male  \n",
              "4             0                          0  Female  \n",
              "...         ...                        ...     ...  \n",
              "4996          0                          0  Female  \n",
              "4997          0                          0  Female  \n",
              "4998          0                          0  Female  \n",
              "4999          0                          0  Female  \n",
              "5000          1                          1    Male  \n",
              "\n",
              "[5001 rows x 8 columns]"
            ],
            "text/html": [
              "\n",
              "  <div id=\"df-fa2ca5c9-72ee-4053-aa95-9435d9a5217f\">\n",
              "    <div class=\"colab-df-container\">\n",
              "      <div>\n",
              "<style scoped>\n",
              "    .dataframe tbody tr th:only-of-type {\n",
              "        vertical-align: middle;\n",
              "    }\n",
              "\n",
              "    .dataframe tbody tr th {\n",
              "        vertical-align: top;\n",
              "    }\n",
              "\n",
              "    .dataframe thead th {\n",
              "        text-align: right;\n",
              "    }\n",
              "</style>\n",
              "<table border=\"1\" class=\"dataframe\">\n",
              "  <thead>\n",
              "    <tr style=\"text-align: right;\">\n",
              "      <th></th>\n",
              "      <th>long_hair</th>\n",
              "      <th>forehead_width_cm</th>\n",
              "      <th>forehead_height_cm</th>\n",
              "      <th>nose_wide</th>\n",
              "      <th>nose_long</th>\n",
              "      <th>lips_thin</th>\n",
              "      <th>distance_nose_to_lip_long</th>\n",
              "      <th>gender</th>\n",
              "    </tr>\n",
              "  </thead>\n",
              "  <tbody>\n",
              "    <tr>\n",
              "      <th>0</th>\n",
              "      <td>1</td>\n",
              "      <td>11.8</td>\n",
              "      <td>6.1</td>\n",
              "      <td>1</td>\n",
              "      <td>0</td>\n",
              "      <td>1</td>\n",
              "      <td>1</td>\n",
              "      <td>Male</td>\n",
              "    </tr>\n",
              "    <tr>\n",
              "      <th>1</th>\n",
              "      <td>0</td>\n",
              "      <td>14.0</td>\n",
              "      <td>5.4</td>\n",
              "      <td>0</td>\n",
              "      <td>0</td>\n",
              "      <td>1</td>\n",
              "      <td>0</td>\n",
              "      <td>Female</td>\n",
              "    </tr>\n",
              "    <tr>\n",
              "      <th>2</th>\n",
              "      <td>0</td>\n",
              "      <td>11.8</td>\n",
              "      <td>6.3</td>\n",
              "      <td>1</td>\n",
              "      <td>1</td>\n",
              "      <td>1</td>\n",
              "      <td>1</td>\n",
              "      <td>Male</td>\n",
              "    </tr>\n",
              "    <tr>\n",
              "      <th>3</th>\n",
              "      <td>0</td>\n",
              "      <td>14.4</td>\n",
              "      <td>6.1</td>\n",
              "      <td>0</td>\n",
              "      <td>1</td>\n",
              "      <td>1</td>\n",
              "      <td>1</td>\n",
              "      <td>Male</td>\n",
              "    </tr>\n",
              "    <tr>\n",
              "      <th>4</th>\n",
              "      <td>1</td>\n",
              "      <td>13.5</td>\n",
              "      <td>5.9</td>\n",
              "      <td>0</td>\n",
              "      <td>0</td>\n",
              "      <td>0</td>\n",
              "      <td>0</td>\n",
              "      <td>Female</td>\n",
              "    </tr>\n",
              "    <tr>\n",
              "      <th>...</th>\n",
              "      <td>...</td>\n",
              "      <td>...</td>\n",
              "      <td>...</td>\n",
              "      <td>...</td>\n",
              "      <td>...</td>\n",
              "      <td>...</td>\n",
              "      <td>...</td>\n",
              "      <td>...</td>\n",
              "    </tr>\n",
              "    <tr>\n",
              "      <th>4996</th>\n",
              "      <td>1</td>\n",
              "      <td>13.6</td>\n",
              "      <td>5.1</td>\n",
              "      <td>0</td>\n",
              "      <td>0</td>\n",
              "      <td>0</td>\n",
              "      <td>0</td>\n",
              "      <td>Female</td>\n",
              "    </tr>\n",
              "    <tr>\n",
              "      <th>4997</th>\n",
              "      <td>1</td>\n",
              "      <td>11.9</td>\n",
              "      <td>5.4</td>\n",
              "      <td>0</td>\n",
              "      <td>0</td>\n",
              "      <td>0</td>\n",
              "      <td>0</td>\n",
              "      <td>Female</td>\n",
              "    </tr>\n",
              "    <tr>\n",
              "      <th>4998</th>\n",
              "      <td>1</td>\n",
              "      <td>12.9</td>\n",
              "      <td>5.7</td>\n",
              "      <td>0</td>\n",
              "      <td>0</td>\n",
              "      <td>0</td>\n",
              "      <td>0</td>\n",
              "      <td>Female</td>\n",
              "    </tr>\n",
              "    <tr>\n",
              "      <th>4999</th>\n",
              "      <td>1</td>\n",
              "      <td>13.2</td>\n",
              "      <td>6.2</td>\n",
              "      <td>0</td>\n",
              "      <td>0</td>\n",
              "      <td>0</td>\n",
              "      <td>0</td>\n",
              "      <td>Female</td>\n",
              "    </tr>\n",
              "    <tr>\n",
              "      <th>5000</th>\n",
              "      <td>1</td>\n",
              "      <td>15.4</td>\n",
              "      <td>5.4</td>\n",
              "      <td>1</td>\n",
              "      <td>1</td>\n",
              "      <td>1</td>\n",
              "      <td>1</td>\n",
              "      <td>Male</td>\n",
              "    </tr>\n",
              "  </tbody>\n",
              "</table>\n",
              "<p>5001 rows × 8 columns</p>\n",
              "</div>\n",
              "      <button class=\"colab-df-convert\" onclick=\"convertToInteractive('df-fa2ca5c9-72ee-4053-aa95-9435d9a5217f')\"\n",
              "              title=\"Convert this dataframe to an interactive table.\"\n",
              "              style=\"display:none;\">\n",
              "        \n",
              "  <svg xmlns=\"http://www.w3.org/2000/svg\" height=\"24px\"viewBox=\"0 0 24 24\"\n",
              "       width=\"24px\">\n",
              "    <path d=\"M0 0h24v24H0V0z\" fill=\"none\"/>\n",
              "    <path d=\"M18.56 5.44l.94 2.06.94-2.06 2.06-.94-2.06-.94-.94-2.06-.94 2.06-2.06.94zm-11 1L8.5 8.5l.94-2.06 2.06-.94-2.06-.94L8.5 2.5l-.94 2.06-2.06.94zm10 10l.94 2.06.94-2.06 2.06-.94-2.06-.94-.94-2.06-.94 2.06-2.06.94z\"/><path d=\"M17.41 7.96l-1.37-1.37c-.4-.4-.92-.59-1.43-.59-.52 0-1.04.2-1.43.59L10.3 9.45l-7.72 7.72c-.78.78-.78 2.05 0 2.83L4 21.41c.39.39.9.59 1.41.59.51 0 1.02-.2 1.41-.59l7.78-7.78 2.81-2.81c.8-.78.8-2.07 0-2.86zM5.41 20L4 18.59l7.72-7.72 1.47 1.35L5.41 20z\"/>\n",
              "  </svg>\n",
              "      </button>\n",
              "      \n",
              "  <style>\n",
              "    .colab-df-container {\n",
              "      display:flex;\n",
              "      flex-wrap:wrap;\n",
              "      gap: 12px;\n",
              "    }\n",
              "\n",
              "    .colab-df-convert {\n",
              "      background-color: #E8F0FE;\n",
              "      border: none;\n",
              "      border-radius: 50%;\n",
              "      cursor: pointer;\n",
              "      display: none;\n",
              "      fill: #1967D2;\n",
              "      height: 32px;\n",
              "      padding: 0 0 0 0;\n",
              "      width: 32px;\n",
              "    }\n",
              "\n",
              "    .colab-df-convert:hover {\n",
              "      background-color: #E2EBFA;\n",
              "      box-shadow: 0px 1px 2px rgba(60, 64, 67, 0.3), 0px 1px 3px 1px rgba(60, 64, 67, 0.15);\n",
              "      fill: #174EA6;\n",
              "    }\n",
              "\n",
              "    [theme=dark] .colab-df-convert {\n",
              "      background-color: #3B4455;\n",
              "      fill: #D2E3FC;\n",
              "    }\n",
              "\n",
              "    [theme=dark] .colab-df-convert:hover {\n",
              "      background-color: #434B5C;\n",
              "      box-shadow: 0px 1px 3px 1px rgba(0, 0, 0, 0.15);\n",
              "      filter: drop-shadow(0px 1px 2px rgba(0, 0, 0, 0.3));\n",
              "      fill: #FFFFFF;\n",
              "    }\n",
              "  </style>\n",
              "\n",
              "      <script>\n",
              "        const buttonEl =\n",
              "          document.querySelector('#df-fa2ca5c9-72ee-4053-aa95-9435d9a5217f button.colab-df-convert');\n",
              "        buttonEl.style.display =\n",
              "          google.colab.kernel.accessAllowed ? 'block' : 'none';\n",
              "\n",
              "        async function convertToInteractive(key) {\n",
              "          const element = document.querySelector('#df-fa2ca5c9-72ee-4053-aa95-9435d9a5217f');\n",
              "          const dataTable =\n",
              "            await google.colab.kernel.invokeFunction('convertToInteractive',\n",
              "                                                     [key], {});\n",
              "          if (!dataTable) return;\n",
              "\n",
              "          const docLinkHtml = 'Like what you see? Visit the ' +\n",
              "            '<a target=\"_blank\" href=https://colab.research.google.com/notebooks/data_table.ipynb>data table notebook</a>'\n",
              "            + ' to learn more about interactive tables.';\n",
              "          element.innerHTML = '';\n",
              "          dataTable['output_type'] = 'display_data';\n",
              "          await google.colab.output.renderOutput(dataTable, element);\n",
              "          const docLink = document.createElement('div');\n",
              "          docLink.innerHTML = docLinkHtml;\n",
              "          element.appendChild(docLink);\n",
              "        }\n",
              "      </script>\n",
              "    </div>\n",
              "  </div>\n",
              "  "
            ]
          },
          "metadata": {},
          "execution_count": 332
        }
      ]
    },
    {
      "cell_type": "code",
      "source": [
        "#number of rows and coloumns\n",
        "datatxt.shape"
      ],
      "metadata": {
        "colab": {
          "base_uri": "https://localhost:8080/"
        },
        "id": "RqvS1g5omd2I",
        "outputId": "01f7e94c-10a2-49e3-85bd-f3b7bda18ef6"
      },
      "execution_count": 333,
      "outputs": [
        {
          "output_type": "execute_result",
          "data": {
            "text/plain": [
              "(5001, 8)"
            ]
          },
          "metadata": {},
          "execution_count": 333
        }
      ]
    },
    {
      "cell_type": "code",
      "source": [
        "#getting some basic information about the data\n",
        "datatxt.info()"
      ],
      "metadata": {
        "colab": {
          "base_uri": "https://localhost:8080/"
        },
        "id": "nBiR1lcLKDld",
        "outputId": "8f9f8dec-c3c9-49e8-e6b7-8fba9f9186ca"
      },
      "execution_count": 334,
      "outputs": [
        {
          "output_type": "stream",
          "name": "stdout",
          "text": [
            "<class 'pandas.core.frame.DataFrame'>\n",
            "RangeIndex: 5001 entries, 0 to 5000\n",
            "Data columns (total 8 columns):\n",
            " #   Column                     Non-Null Count  Dtype  \n",
            "---  ------                     --------------  -----  \n",
            " 0   long_hair                  5001 non-null   int64  \n",
            " 1   forehead_width_cm          5001 non-null   float64\n",
            " 2   forehead_height_cm         5001 non-null   float64\n",
            " 3   nose_wide                  5001 non-null   int64  \n",
            " 4   nose_long                  5001 non-null   int64  \n",
            " 5   lips_thin                  5001 non-null   int64  \n",
            " 6   distance_nose_to_lip_long  5001 non-null   int64  \n",
            " 7   gender                     5001 non-null   object \n",
            "dtypes: float64(2), int64(5), object(1)\n",
            "memory usage: 312.7+ KB\n"
          ]
        }
      ]
    },
    {
      "cell_type": "code",
      "source": [
        "#convert object Dtype to int64 Dtye\n",
        "datatxt.replace({\"gender\":{'Male':0, 'Female':1}}, inplace=True)"
      ],
      "metadata": {
        "id": "X8NzuumTeyEb"
      },
      "execution_count": 335,
      "outputs": []
    },
    {
      "cell_type": "code",
      "source": [
        "datatxt"
      ],
      "metadata": {
        "colab": {
          "base_uri": "https://localhost:8080/",
          "height": 424
        },
        "id": "QlZUweJJO63p",
        "outputId": "ba51b282-a2c4-479e-80f2-07749dc069cc"
      },
      "execution_count": 336,
      "outputs": [
        {
          "output_type": "execute_result",
          "data": {
            "text/plain": [
              "      long_hair  forehead_width_cm  forehead_height_cm  nose_wide  nose_long  \\\n",
              "0             1               11.8                 6.1          1          0   \n",
              "1             0               14.0                 5.4          0          0   \n",
              "2             0               11.8                 6.3          1          1   \n",
              "3             0               14.4                 6.1          0          1   \n",
              "4             1               13.5                 5.9          0          0   \n",
              "...         ...                ...                 ...        ...        ...   \n",
              "4996          1               13.6                 5.1          0          0   \n",
              "4997          1               11.9                 5.4          0          0   \n",
              "4998          1               12.9                 5.7          0          0   \n",
              "4999          1               13.2                 6.2          0          0   \n",
              "5000          1               15.4                 5.4          1          1   \n",
              "\n",
              "      lips_thin  distance_nose_to_lip_long  gender  \n",
              "0             1                          1       0  \n",
              "1             1                          0       1  \n",
              "2             1                          1       0  \n",
              "3             1                          1       0  \n",
              "4             0                          0       1  \n",
              "...         ...                        ...     ...  \n",
              "4996          0                          0       1  \n",
              "4997          0                          0       1  \n",
              "4998          0                          0       1  \n",
              "4999          0                          0       1  \n",
              "5000          1                          1       0  \n",
              "\n",
              "[5001 rows x 8 columns]"
            ],
            "text/html": [
              "\n",
              "  <div id=\"df-3d2f5953-7de4-462d-82fc-6384215045d6\">\n",
              "    <div class=\"colab-df-container\">\n",
              "      <div>\n",
              "<style scoped>\n",
              "    .dataframe tbody tr th:only-of-type {\n",
              "        vertical-align: middle;\n",
              "    }\n",
              "\n",
              "    .dataframe tbody tr th {\n",
              "        vertical-align: top;\n",
              "    }\n",
              "\n",
              "    .dataframe thead th {\n",
              "        text-align: right;\n",
              "    }\n",
              "</style>\n",
              "<table border=\"1\" class=\"dataframe\">\n",
              "  <thead>\n",
              "    <tr style=\"text-align: right;\">\n",
              "      <th></th>\n",
              "      <th>long_hair</th>\n",
              "      <th>forehead_width_cm</th>\n",
              "      <th>forehead_height_cm</th>\n",
              "      <th>nose_wide</th>\n",
              "      <th>nose_long</th>\n",
              "      <th>lips_thin</th>\n",
              "      <th>distance_nose_to_lip_long</th>\n",
              "      <th>gender</th>\n",
              "    </tr>\n",
              "  </thead>\n",
              "  <tbody>\n",
              "    <tr>\n",
              "      <th>0</th>\n",
              "      <td>1</td>\n",
              "      <td>11.8</td>\n",
              "      <td>6.1</td>\n",
              "      <td>1</td>\n",
              "      <td>0</td>\n",
              "      <td>1</td>\n",
              "      <td>1</td>\n",
              "      <td>0</td>\n",
              "    </tr>\n",
              "    <tr>\n",
              "      <th>1</th>\n",
              "      <td>0</td>\n",
              "      <td>14.0</td>\n",
              "      <td>5.4</td>\n",
              "      <td>0</td>\n",
              "      <td>0</td>\n",
              "      <td>1</td>\n",
              "      <td>0</td>\n",
              "      <td>1</td>\n",
              "    </tr>\n",
              "    <tr>\n",
              "      <th>2</th>\n",
              "      <td>0</td>\n",
              "      <td>11.8</td>\n",
              "      <td>6.3</td>\n",
              "      <td>1</td>\n",
              "      <td>1</td>\n",
              "      <td>1</td>\n",
              "      <td>1</td>\n",
              "      <td>0</td>\n",
              "    </tr>\n",
              "    <tr>\n",
              "      <th>3</th>\n",
              "      <td>0</td>\n",
              "      <td>14.4</td>\n",
              "      <td>6.1</td>\n",
              "      <td>0</td>\n",
              "      <td>1</td>\n",
              "      <td>1</td>\n",
              "      <td>1</td>\n",
              "      <td>0</td>\n",
              "    </tr>\n",
              "    <tr>\n",
              "      <th>4</th>\n",
              "      <td>1</td>\n",
              "      <td>13.5</td>\n",
              "      <td>5.9</td>\n",
              "      <td>0</td>\n",
              "      <td>0</td>\n",
              "      <td>0</td>\n",
              "      <td>0</td>\n",
              "      <td>1</td>\n",
              "    </tr>\n",
              "    <tr>\n",
              "      <th>...</th>\n",
              "      <td>...</td>\n",
              "      <td>...</td>\n",
              "      <td>...</td>\n",
              "      <td>...</td>\n",
              "      <td>...</td>\n",
              "      <td>...</td>\n",
              "      <td>...</td>\n",
              "      <td>...</td>\n",
              "    </tr>\n",
              "    <tr>\n",
              "      <th>4996</th>\n",
              "      <td>1</td>\n",
              "      <td>13.6</td>\n",
              "      <td>5.1</td>\n",
              "      <td>0</td>\n",
              "      <td>0</td>\n",
              "      <td>0</td>\n",
              "      <td>0</td>\n",
              "      <td>1</td>\n",
              "    </tr>\n",
              "    <tr>\n",
              "      <th>4997</th>\n",
              "      <td>1</td>\n",
              "      <td>11.9</td>\n",
              "      <td>5.4</td>\n",
              "      <td>0</td>\n",
              "      <td>0</td>\n",
              "      <td>0</td>\n",
              "      <td>0</td>\n",
              "      <td>1</td>\n",
              "    </tr>\n",
              "    <tr>\n",
              "      <th>4998</th>\n",
              "      <td>1</td>\n",
              "      <td>12.9</td>\n",
              "      <td>5.7</td>\n",
              "      <td>0</td>\n",
              "      <td>0</td>\n",
              "      <td>0</td>\n",
              "      <td>0</td>\n",
              "      <td>1</td>\n",
              "    </tr>\n",
              "    <tr>\n",
              "      <th>4999</th>\n",
              "      <td>1</td>\n",
              "      <td>13.2</td>\n",
              "      <td>6.2</td>\n",
              "      <td>0</td>\n",
              "      <td>0</td>\n",
              "      <td>0</td>\n",
              "      <td>0</td>\n",
              "      <td>1</td>\n",
              "    </tr>\n",
              "    <tr>\n",
              "      <th>5000</th>\n",
              "      <td>1</td>\n",
              "      <td>15.4</td>\n",
              "      <td>5.4</td>\n",
              "      <td>1</td>\n",
              "      <td>1</td>\n",
              "      <td>1</td>\n",
              "      <td>1</td>\n",
              "      <td>0</td>\n",
              "    </tr>\n",
              "  </tbody>\n",
              "</table>\n",
              "<p>5001 rows × 8 columns</p>\n",
              "</div>\n",
              "      <button class=\"colab-df-convert\" onclick=\"convertToInteractive('df-3d2f5953-7de4-462d-82fc-6384215045d6')\"\n",
              "              title=\"Convert this dataframe to an interactive table.\"\n",
              "              style=\"display:none;\">\n",
              "        \n",
              "  <svg xmlns=\"http://www.w3.org/2000/svg\" height=\"24px\"viewBox=\"0 0 24 24\"\n",
              "       width=\"24px\">\n",
              "    <path d=\"M0 0h24v24H0V0z\" fill=\"none\"/>\n",
              "    <path d=\"M18.56 5.44l.94 2.06.94-2.06 2.06-.94-2.06-.94-.94-2.06-.94 2.06-2.06.94zm-11 1L8.5 8.5l.94-2.06 2.06-.94-2.06-.94L8.5 2.5l-.94 2.06-2.06.94zm10 10l.94 2.06.94-2.06 2.06-.94-2.06-.94-.94-2.06-.94 2.06-2.06.94z\"/><path d=\"M17.41 7.96l-1.37-1.37c-.4-.4-.92-.59-1.43-.59-.52 0-1.04.2-1.43.59L10.3 9.45l-7.72 7.72c-.78.78-.78 2.05 0 2.83L4 21.41c.39.39.9.59 1.41.59.51 0 1.02-.2 1.41-.59l7.78-7.78 2.81-2.81c.8-.78.8-2.07 0-2.86zM5.41 20L4 18.59l7.72-7.72 1.47 1.35L5.41 20z\"/>\n",
              "  </svg>\n",
              "      </button>\n",
              "      \n",
              "  <style>\n",
              "    .colab-df-container {\n",
              "      display:flex;\n",
              "      flex-wrap:wrap;\n",
              "      gap: 12px;\n",
              "    }\n",
              "\n",
              "    .colab-df-convert {\n",
              "      background-color: #E8F0FE;\n",
              "      border: none;\n",
              "      border-radius: 50%;\n",
              "      cursor: pointer;\n",
              "      display: none;\n",
              "      fill: #1967D2;\n",
              "      height: 32px;\n",
              "      padding: 0 0 0 0;\n",
              "      width: 32px;\n",
              "    }\n",
              "\n",
              "    .colab-df-convert:hover {\n",
              "      background-color: #E2EBFA;\n",
              "      box-shadow: 0px 1px 2px rgba(60, 64, 67, 0.3), 0px 1px 3px 1px rgba(60, 64, 67, 0.15);\n",
              "      fill: #174EA6;\n",
              "    }\n",
              "\n",
              "    [theme=dark] .colab-df-convert {\n",
              "      background-color: #3B4455;\n",
              "      fill: #D2E3FC;\n",
              "    }\n",
              "\n",
              "    [theme=dark] .colab-df-convert:hover {\n",
              "      background-color: #434B5C;\n",
              "      box-shadow: 0px 1px 3px 1px rgba(0, 0, 0, 0.15);\n",
              "      filter: drop-shadow(0px 1px 2px rgba(0, 0, 0, 0.3));\n",
              "      fill: #FFFFFF;\n",
              "    }\n",
              "  </style>\n",
              "\n",
              "      <script>\n",
              "        const buttonEl =\n",
              "          document.querySelector('#df-3d2f5953-7de4-462d-82fc-6384215045d6 button.colab-df-convert');\n",
              "        buttonEl.style.display =\n",
              "          google.colab.kernel.accessAllowed ? 'block' : 'none';\n",
              "\n",
              "        async function convertToInteractive(key) {\n",
              "          const element = document.querySelector('#df-3d2f5953-7de4-462d-82fc-6384215045d6');\n",
              "          const dataTable =\n",
              "            await google.colab.kernel.invokeFunction('convertToInteractive',\n",
              "                                                     [key], {});\n",
              "          if (!dataTable) return;\n",
              "\n",
              "          const docLinkHtml = 'Like what you see? Visit the ' +\n",
              "            '<a target=\"_blank\" href=https://colab.research.google.com/notebooks/data_table.ipynb>data table notebook</a>'\n",
              "            + ' to learn more about interactive tables.';\n",
              "          element.innerHTML = '';\n",
              "          dataTable['output_type'] = 'display_data';\n",
              "          await google.colab.output.renderOutput(dataTable, element);\n",
              "          const docLink = document.createElement('div');\n",
              "          docLink.innerHTML = docLinkHtml;\n",
              "          element.appendChild(docLink);\n",
              "        }\n",
              "      </script>\n",
              "    </div>\n",
              "  </div>\n",
              "  "
            ]
          },
          "metadata": {},
          "execution_count": 336
        }
      ]
    },
    {
      "cell_type": "code",
      "source": [
        "datatxt.info()\n"
      ],
      "metadata": {
        "colab": {
          "base_uri": "https://localhost:8080/"
        },
        "id": "_Gmk9i3XnDrG",
        "outputId": "6f7ebb20-9e47-4ba1-a72e-ba7ac877d02e"
      },
      "execution_count": 337,
      "outputs": [
        {
          "output_type": "stream",
          "name": "stdout",
          "text": [
            "<class 'pandas.core.frame.DataFrame'>\n",
            "RangeIndex: 5001 entries, 0 to 5000\n",
            "Data columns (total 8 columns):\n",
            " #   Column                     Non-Null Count  Dtype  \n",
            "---  ------                     --------------  -----  \n",
            " 0   long_hair                  5001 non-null   int64  \n",
            " 1   forehead_width_cm          5001 non-null   float64\n",
            " 2   forehead_height_cm         5001 non-null   float64\n",
            " 3   nose_wide                  5001 non-null   int64  \n",
            " 4   nose_long                  5001 non-null   int64  \n",
            " 5   lips_thin                  5001 non-null   int64  \n",
            " 6   distance_nose_to_lip_long  5001 non-null   int64  \n",
            " 7   gender                     5001 non-null   int64  \n",
            "dtypes: float64(2), int64(6)\n",
            "memory usage: 312.7 KB\n"
          ]
        }
      ]
    },
    {
      "cell_type": "code",
      "source": [
        "#checking the number of missing values\n",
        "datatxt.isnull().sum()"
      ],
      "metadata": {
        "colab": {
          "base_uri": "https://localhost:8080/"
        },
        "id": "SnluR7C7rgTW",
        "outputId": "8f2e3271-6056-44e2-bc69-bb7122878242"
      },
      "execution_count": 338,
      "outputs": [
        {
          "output_type": "execute_result",
          "data": {
            "text/plain": [
              "long_hair                    0\n",
              "forehead_width_cm            0\n",
              "forehead_height_cm           0\n",
              "nose_wide                    0\n",
              "nose_long                    0\n",
              "lips_thin                    0\n",
              "distance_nose_to_lip_long    0\n",
              "gender                       0\n",
              "dtype: int64"
            ]
          },
          "metadata": {},
          "execution_count": 338
        }
      ]
    },
    {
      "cell_type": "code",
      "source": [
        "#checking the count of long hair\n",
        "sns.countplot(data=datatxt,x='long_hair')"
      ],
      "metadata": {
        "colab": {
          "base_uri": "https://localhost:8080/",
          "height": 297
        },
        "id": "Zeq47cRDr2Qq",
        "outputId": "2aea3c1d-ac2e-430b-c02c-ae212da23777"
      },
      "execution_count": 339,
      "outputs": [
        {
          "output_type": "execute_result",
          "data": {
            "text/plain": [
              "<matplotlib.axes._subplots.AxesSubplot at 0x7f2c0afe1f40>"
            ]
          },
          "metadata": {},
          "execution_count": 339
        },
        {
          "output_type": "display_data",
          "data": {
            "text/plain": [
              "<Figure size 432x288 with 1 Axes>"
            ],
            "image/png": "[encoded data removed]"
          },
          "metadata": {
            "needs_background": "light"
          }
        }
      ]
    },
    {
      "cell_type": "code",
      "source": [
        "#checking the count of forehead hight\n",
        "sns.countplot(data=datatxt,x='forehead_height_cm')\n"
      ],
      "metadata": {
        "colab": {
          "base_uri": "https://localhost:8080/",
          "height": 297
        },
        "id": "NCaaal98s2fT",
        "outputId": "4c60b447-fbcb-4eea-c399-b640a6122c6f"
      },
      "execution_count": 340,
      "outputs": [
        {
          "output_type": "execute_result",
          "data": {
            "text/plain": [
              "<matplotlib.axes._subplots.AxesSubplot at 0x7f2c0c445ca0>"
            ]
          },
          "metadata": {},
          "execution_count": 340
        },
        {
          "output_type": "display_data",
          "data": {
            "text/plain": [
              "<Figure size 432x288 with 1 Axes>"
            ],
            "image/png": "[encoded data removed]"
          },
          "metadata": {
            "needs_background": "light"
          }
        }
      ]
    },
    {
      "cell_type": "code",
      "source": [
        "#Check the count of fields\n",
        "sns.displot(data=datatxt)"
      ],
      "metadata": {
        "colab": {
          "base_uri": "https://localhost:8080/",
          "height": 386
        },
        "id": "m79Xlzn2tRmg",
        "outputId": "3cd723ce-000a-4466-b817-2a9afb6e03c0"
      },
      "execution_count": 341,
      "outputs": [
        {
          "output_type": "execute_result",
          "data": {
            "text/plain": [
              "<seaborn.axisgrid.FacetGrid at 0x7f2c0c3183a0>"
            ]
          },
          "metadata": {},
          "execution_count": 341
        },
        {
          "output_type": "display_data",
          "data": {
            "text/plain": [
              "<Figure size 525.75x360 with 1 Axes>"
            ],
            "image/png": "[encoded data removed]"
          },
          "metadata": {
            "needs_background": "light"
          }
        }
      ]
    },
    {
      "cell_type": "code",
      "source": [
        "# split into input (X) and output (Y) variables\n",
        "x=datatxt.iloc[:,:].values[:,0:4]\n",
        "y=datatxt.iloc[:,:].values[:,4]\n",
        "\n"
      ],
      "metadata": {
        "id": "08T_zPJc61g7"
      },
      "execution_count": 342,
      "outputs": []
    },
    {
      "cell_type": "markdown",
      "source": [
        "Spilliting into Training data & Testing data"
      ],
      "metadata": {
        "id": "JR91WiZnlaIG"
      }
    },
    {
      "cell_type": "code",
      "source": [
        "from sklearn.model_selection import train_test_split\n",
        "# split into 67% for train and 33% for test\n",
        "x_train,x_test,y_train,y_test = train_test_split(x,y,test_size=0.33)"
      ],
      "metadata": {
        "id": "Q-SJZ64olYjW"
      },
      "execution_count": 343,
      "outputs": []
    },
    {
      "cell_type": "code",
      "source": [
        "# create model\n",
        "model=Sequential()\n",
        "#adds a dense layer withsigmoid activation function\n",
        "model.add(Dense(128,input_shape=(4,),activation='relu'))\n",
        "#add a droupout layer to handle overfitting\n",
        "model.add(Dropout(0.2))\n",
        "#adds a dense layer with relu activation function\n",
        "model.add(Dense(64,activation='sigmoid'))\n",
        "model.add(Dense(8,activation='relu'))\n",
        "model.add(Dense(1,activation='sigmoid'))"
      ],
      "metadata": {
        "id": "QoPTwZ1x80cv"
      },
      "execution_count": 344,
      "outputs": []
    },
    {
      "cell_type": "code",
      "source": [
        "# Compile model\n",
        "model.compile(loss='binary_crossentropy',optimizer='adam',metrics=['accuracy'])\n",
        "model.summary()"
      ],
      "metadata": {
        "id": "vwh2AZ-B95bw",
        "colab": {
          "base_uri": "https://localhost:8080/"
        },
        "outputId": "9699317a-53e5-41be-fdcc-a3617936a47f"
      },
      "execution_count": 345,
      "outputs": [
        {
          "output_type": "stream",
          "name": "stdout",
          "text": [
            "Model: \"sequential_44\"\n",
            "_________________________________________________________________\n",
            " Layer (type)                Output Shape              Param #   \n",
            "=================================================================\n",
            " dense_187 (Dense)           (None, 128)               640       \n",
            "                                                                 \n",
            " dropout_47 (Dropout)        (None, 128)               0         \n",
            "                                                                 \n",
            " dense_188 (Dense)           (None, 64)                8256      \n",
            "                                                                 \n",
            " dense_189 (Dense)           (None, 8)                 520       \n",
            "                                                                 \n",
            " dense_190 (Dense)           (None, 1)                 9         \n",
            "                                                                 \n",
            "=================================================================\n",
            "Total params: 9,425\n",
            "Trainable params: 9,425\n",
            "Non-trainable params: 0\n",
            "_________________________________________________________________\n"
          ]
        }
      ]
    },
    {
      "cell_type": "code",
      "source": [
        "# Fit the model with data list epoch & batch sizes\n",
        "history=model.fit(x_train,y_train,validation_data=(x_test,y_test), epochs=100, batch_size=10)"
      ],
      "metadata": {
        "colab": {
          "base_uri": "https://localhost:8080/"
        },
        "id": "vlIm2JGM-voP",
        "outputId": "721f0563-665a-49f0-8813-a99343aa077e"
      },
      "execution_count": 346,
      "outputs": [
        {
          "output_type": "stream",
          "name": "stdout",
          "text": [
            "Epoch 1/100\n",
            "335/335 [==============================] - 2s 4ms/step - loss: 0.6327 - accuracy: 0.6478 - val_loss: 0.5262 - val_accuracy: 0.7844\n",
            "Epoch 2/100\n",
            "335/335 [==============================] - 1s 3ms/step - loss: 0.5387 - accuracy: 0.7782 - val_loss: 0.5210 - val_accuracy: 0.7844\n",
            "Epoch 3/100\n",
            "335/335 [==============================] - 1s 3ms/step - loss: 0.5334 - accuracy: 0.7770 - val_loss: 0.5225 - val_accuracy: 0.7844\n",
            "Epoch 4/100\n",
            "335/335 [==============================] - 1s 3ms/step - loss: 0.5317 - accuracy: 0.7815 - val_loss: 0.5191 - val_accuracy: 0.7844\n",
            "Epoch 5/100\n",
            "335/335 [==============================] - 1s 3ms/step - loss: 0.5298 - accuracy: 0.7812 - val_loss: 0.5187 - val_accuracy: 0.7844\n",
            "Epoch 6/100\n",
            "335/335 [==============================] - 1s 3ms/step - loss: 0.5282 - accuracy: 0.7815 - val_loss: 0.5200 - val_accuracy: 0.7844\n",
            "Epoch 7/100\n",
            "335/335 [==============================] - 1s 2ms/step - loss: 0.5301 - accuracy: 0.7815 - val_loss: 0.5184 - val_accuracy: 0.7844\n",
            "Epoch 8/100\n",
            "335/335 [==============================] - 1s 3ms/step - loss: 0.5274 - accuracy: 0.7815 - val_loss: 0.5218 - val_accuracy: 0.7844\n",
            "Epoch 9/100\n",
            "335/335 [==============================] - 1s 3ms/step - loss: 0.5287 - accuracy: 0.7818 - val_loss: 0.5189 - val_accuracy: 0.7844\n",
            "Epoch 10/100\n",
            "335/335 [==============================] - 1s 3ms/step - loss: 0.5255 - accuracy: 0.7815 - val_loss: 0.5358 - val_accuracy: 0.7844\n",
            "Epoch 11/100\n",
            "335/335 [==============================] - 1s 3ms/step - loss: 0.5278 - accuracy: 0.7824 - val_loss: 0.5186 - val_accuracy: 0.7844\n",
            "Epoch 12/100\n",
            "335/335 [==============================] - 1s 3ms/step - loss: 0.5250 - accuracy: 0.7815 - val_loss: 0.5178 - val_accuracy: 0.7844\n",
            "Epoch 13/100\n",
            "335/335 [==============================] - 1s 3ms/step - loss: 0.5249 - accuracy: 0.7791 - val_loss: 0.5171 - val_accuracy: 0.7844\n",
            "Epoch 14/100\n",
            "335/335 [==============================] - 1s 3ms/step - loss: 0.5260 - accuracy: 0.7815 - val_loss: 0.5202 - val_accuracy: 0.7844\n",
            "Epoch 15/100\n",
            "335/335 [==============================] - 1s 3ms/step - loss: 0.5236 - accuracy: 0.7818 - val_loss: 0.5177 - val_accuracy: 0.7844\n",
            "Epoch 16/100\n",
            "335/335 [==============================] - 1s 3ms/step - loss: 0.5262 - accuracy: 0.7815 - val_loss: 0.5182 - val_accuracy: 0.7844\n",
            "Epoch 17/100\n",
            "335/335 [==============================] - 1s 3ms/step - loss: 0.5245 - accuracy: 0.7809 - val_loss: 0.5185 - val_accuracy: 0.7844\n",
            "Epoch 18/100\n",
            "335/335 [==============================] - 2s 5ms/step - loss: 0.5262 - accuracy: 0.7815 - val_loss: 0.5167 - val_accuracy: 0.7844\n",
            "Epoch 19/100\n",
            "335/335 [==============================] - 1s 3ms/step - loss: 0.5244 - accuracy: 0.7815 - val_loss: 0.5212 - val_accuracy: 0.7844\n",
            "Epoch 20/100\n",
            "335/335 [==============================] - 1s 3ms/step - loss: 0.5227 - accuracy: 0.7815 - val_loss: 0.5208 - val_accuracy: 0.7844\n",
            "Epoch 21/100\n",
            "335/335 [==============================] - 1s 3ms/step - loss: 0.5254 - accuracy: 0.7815 - val_loss: 0.5165 - val_accuracy: 0.7844\n",
            "Epoch 22/100\n",
            "335/335 [==============================] - 1s 3ms/step - loss: 0.5242 - accuracy: 0.7815 - val_loss: 0.5228 - val_accuracy: 0.7844\n",
            "Epoch 23/100\n",
            "335/335 [==============================] - 1s 3ms/step - loss: 0.5232 - accuracy: 0.7818 - val_loss: 0.5326 - val_accuracy: 0.7874\n",
            "Epoch 24/100\n",
            "335/335 [==============================] - 1s 3ms/step - loss: 0.5215 - accuracy: 0.7812 - val_loss: 0.5130 - val_accuracy: 0.7844\n",
            "Epoch 25/100\n",
            "335/335 [==============================] - 1s 3ms/step - loss: 0.5229 - accuracy: 0.7812 - val_loss: 0.5185 - val_accuracy: 0.7856\n",
            "Epoch 26/100\n",
            "335/335 [==============================] - 1s 2ms/step - loss: 0.5245 - accuracy: 0.7815 - val_loss: 0.5162 - val_accuracy: 0.7844\n",
            "Epoch 27/100\n",
            "335/335 [==============================] - 1s 3ms/step - loss: 0.5228 - accuracy: 0.7812 - val_loss: 0.5206 - val_accuracy: 0.7844\n",
            "Epoch 28/100\n",
            "335/335 [==============================] - 1s 3ms/step - loss: 0.5233 - accuracy: 0.7818 - val_loss: 0.5145 - val_accuracy: 0.7844\n",
            "Epoch 29/100\n",
            "335/335 [==============================] - 1s 3ms/step - loss: 0.5218 - accuracy: 0.7803 - val_loss: 0.5155 - val_accuracy: 0.7844\n",
            "Epoch 30/100\n",
            "335/335 [==============================] - 1s 2ms/step - loss: 0.5234 - accuracy: 0.7818 - val_loss: 0.5150 - val_accuracy: 0.7844\n",
            "Epoch 31/100\n",
            "335/335 [==============================] - 1s 3ms/step - loss: 0.5219 - accuracy: 0.7803 - val_loss: 0.5218 - val_accuracy: 0.7844\n",
            "Epoch 32/100\n",
            "335/335 [==============================] - 1s 3ms/step - loss: 0.5203 - accuracy: 0.7821 - val_loss: 0.5161 - val_accuracy: 0.7850\n",
            "Epoch 33/100\n",
            "335/335 [==============================] - 1s 3ms/step - loss: 0.5218 - accuracy: 0.7821 - val_loss: 0.5144 - val_accuracy: 0.7844\n",
            "Epoch 34/100\n",
            "335/335 [==============================] - 1s 3ms/step - loss: 0.5179 - accuracy: 0.7824 - val_loss: 0.5166 - val_accuracy: 0.7856\n",
            "Epoch 35/100\n",
            "335/335 [==============================] - 1s 3ms/step - loss: 0.5208 - accuracy: 0.7815 - val_loss: 0.5155 - val_accuracy: 0.7844\n",
            "Epoch 36/100\n",
            "335/335 [==============================] - 1s 4ms/step - loss: 0.5212 - accuracy: 0.7815 - val_loss: 0.5152 - val_accuracy: 0.7844\n",
            "Epoch 37/100\n",
            "335/335 [==============================] - 1s 3ms/step - loss: 0.5198 - accuracy: 0.7815 - val_loss: 0.5141 - val_accuracy: 0.7850\n",
            "Epoch 38/100\n",
            "335/335 [==============================] - 1s 3ms/step - loss: 0.5205 - accuracy: 0.7821 - val_loss: 0.5154 - val_accuracy: 0.7850\n",
            "Epoch 39/100\n",
            "335/335 [==============================] - 1s 3ms/step - loss: 0.5195 - accuracy: 0.7815 - val_loss: 0.5159 - val_accuracy: 0.7844\n",
            "Epoch 40/100\n",
            "335/335 [==============================] - 1s 3ms/step - loss: 0.5215 - accuracy: 0.7809 - val_loss: 0.5110 - val_accuracy: 0.7850\n",
            "Epoch 41/100\n",
            "335/335 [==============================] - 1s 3ms/step - loss: 0.5197 - accuracy: 0.7824 - val_loss: 0.5150 - val_accuracy: 0.7844\n",
            "Epoch 42/100\n",
            "335/335 [==============================] - 1s 3ms/step - loss: 0.5192 - accuracy: 0.7839 - val_loss: 0.5169 - val_accuracy: 0.7844\n",
            "Epoch 43/100\n",
            "335/335 [==============================] - 1s 3ms/step - loss: 0.5212 - accuracy: 0.7818 - val_loss: 0.5131 - val_accuracy: 0.7844\n",
            "Epoch 44/100\n",
            "335/335 [==============================] - 1s 2ms/step - loss: 0.5191 - accuracy: 0.7824 - val_loss: 0.5185 - val_accuracy: 0.7844\n",
            "Epoch 45/100\n",
            "335/335 [==============================] - 1s 3ms/step - loss: 0.5179 - accuracy: 0.7809 - val_loss: 0.5182 - val_accuracy: 0.7850\n",
            "Epoch 46/100\n",
            "335/335 [==============================] - 1s 3ms/step - loss: 0.5186 - accuracy: 0.7830 - val_loss: 0.5218 - val_accuracy: 0.7844\n",
            "Epoch 47/100\n",
            "335/335 [==============================] - 1s 3ms/step - loss: 0.5182 - accuracy: 0.7806 - val_loss: 0.5132 - val_accuracy: 0.7850\n",
            "Epoch 48/100\n",
            "335/335 [==============================] - 1s 2ms/step - loss: 0.5188 - accuracy: 0.7812 - val_loss: 0.5119 - val_accuracy: 0.7856\n",
            "Epoch 49/100\n",
            "335/335 [==============================] - 1s 3ms/step - loss: 0.5183 - accuracy: 0.7830 - val_loss: 0.5110 - val_accuracy: 0.7850\n",
            "Epoch 50/100\n",
            "335/335 [==============================] - 1s 3ms/step - loss: 0.5176 - accuracy: 0.7827 - val_loss: 0.5151 - val_accuracy: 0.7844\n",
            "Epoch 51/100\n",
            "335/335 [==============================] - 1s 3ms/step - loss: 0.5185 - accuracy: 0.7830 - val_loss: 0.5180 - val_accuracy: 0.7844\n",
            "Epoch 52/100\n",
            "335/335 [==============================] - 1s 3ms/step - loss: 0.5183 - accuracy: 0.7827 - val_loss: 0.5124 - val_accuracy: 0.7862\n",
            "Epoch 53/100\n",
            "335/335 [==============================] - 1s 3ms/step - loss: 0.5185 - accuracy: 0.7818 - val_loss: 0.5138 - val_accuracy: 0.7844\n",
            "Epoch 54/100\n",
            "335/335 [==============================] - 1s 3ms/step - loss: 0.5190 - accuracy: 0.7830 - val_loss: 0.5214 - val_accuracy: 0.7844\n",
            "Epoch 55/100\n",
            "335/335 [==============================] - 1s 3ms/step - loss: 0.5188 - accuracy: 0.7824 - val_loss: 0.5133 - val_accuracy: 0.7856\n",
            "Epoch 56/100\n",
            "335/335 [==============================] - 1s 3ms/step - loss: 0.5171 - accuracy: 0.7824 - val_loss: 0.5125 - val_accuracy: 0.7856\n",
            "Epoch 57/100\n",
            "335/335 [==============================] - 1s 3ms/step - loss: 0.5164 - accuracy: 0.7812 - val_loss: 0.5218 - val_accuracy: 0.7844\n",
            "Epoch 58/100\n",
            "335/335 [==============================] - 1s 3ms/step - loss: 0.5195 - accuracy: 0.7821 - val_loss: 0.5111 - val_accuracy: 0.7844\n",
            "Epoch 59/100\n",
            "335/335 [==============================] - 1s 3ms/step - loss: 0.5151 - accuracy: 0.7833 - val_loss: 0.5245 - val_accuracy: 0.7844\n",
            "Epoch 60/100\n",
            "335/335 [==============================] - 1s 4ms/step - loss: 0.5187 - accuracy: 0.7836 - val_loss: 0.5139 - val_accuracy: 0.7844\n",
            "Epoch 61/100\n",
            "335/335 [==============================] - 1s 4ms/step - loss: 0.5165 - accuracy: 0.7815 - val_loss: 0.5124 - val_accuracy: 0.7856\n",
            "Epoch 62/100\n",
            "335/335 [==============================] - 1s 3ms/step - loss: 0.5164 - accuracy: 0.7809 - val_loss: 0.5130 - val_accuracy: 0.7850\n",
            "Epoch 63/100\n",
            "335/335 [==============================] - 1s 3ms/step - loss: 0.5170 - accuracy: 0.7827 - val_loss: 0.5118 - val_accuracy: 0.7856\n",
            "Epoch 64/100\n",
            "335/335 [==============================] - 1s 3ms/step - loss: 0.5166 - accuracy: 0.7818 - val_loss: 0.5099 - val_accuracy: 0.7856\n",
            "Epoch 65/100\n",
            "335/335 [==============================] - 1s 3ms/step - loss: 0.5146 - accuracy: 0.7836 - val_loss: 0.5138 - val_accuracy: 0.7856\n",
            "Epoch 66/100\n",
            "335/335 [==============================] - 1s 3ms/step - loss: 0.5149 - accuracy: 0.7839 - val_loss: 0.5131 - val_accuracy: 0.7850\n",
            "Epoch 67/100\n",
            "335/335 [==============================] - 1s 3ms/step - loss: 0.5149 - accuracy: 0.7848 - val_loss: 0.5244 - val_accuracy: 0.7844\n",
            "Epoch 68/100\n",
            "335/335 [==============================] - 1s 3ms/step - loss: 0.5165 - accuracy: 0.7848 - val_loss: 0.5172 - val_accuracy: 0.7856\n",
            "Epoch 69/100\n",
            "335/335 [==============================] - 1s 3ms/step - loss: 0.5142 - accuracy: 0.7830 - val_loss: 0.5071 - val_accuracy: 0.7892\n",
            "Epoch 70/100\n",
            "335/335 [==============================] - 1s 3ms/step - loss: 0.5143 - accuracy: 0.7836 - val_loss: 0.5122 - val_accuracy: 0.7844\n",
            "Epoch 71/100\n",
            "335/335 [==============================] - 1s 3ms/step - loss: 0.5155 - accuracy: 0.7815 - val_loss: 0.5153 - val_accuracy: 0.7856\n",
            "Epoch 72/100\n",
            "335/335 [==============================] - 1s 3ms/step - loss: 0.5165 - accuracy: 0.7845 - val_loss: 0.5043 - val_accuracy: 0.7886\n",
            "Epoch 73/100\n",
            "335/335 [==============================] - 1s 3ms/step - loss: 0.5153 - accuracy: 0.7827 - val_loss: 0.5091 - val_accuracy: 0.7862\n",
            "Epoch 74/100\n",
            "335/335 [==============================] - 1s 3ms/step - loss: 0.5135 - accuracy: 0.7839 - val_loss: 0.5109 - val_accuracy: 0.7856\n",
            "Epoch 75/100\n",
            "335/335 [==============================] - 1s 3ms/step - loss: 0.5157 - accuracy: 0.7818 - val_loss: 0.5062 - val_accuracy: 0.7892\n",
            "Epoch 76/100\n",
            "335/335 [==============================] - 1s 3ms/step - loss: 0.5162 - accuracy: 0.7827 - val_loss: 0.5095 - val_accuracy: 0.7856\n",
            "Epoch 77/100\n",
            "335/335 [==============================] - 1s 3ms/step - loss: 0.5150 - accuracy: 0.7812 - val_loss: 0.5165 - val_accuracy: 0.7850\n",
            "Epoch 78/100\n",
            "335/335 [==============================] - 1s 3ms/step - loss: 0.5157 - accuracy: 0.7836 - val_loss: 0.5121 - val_accuracy: 0.7850\n",
            "Epoch 79/100\n",
            "335/335 [==============================] - 1s 3ms/step - loss: 0.5145 - accuracy: 0.7809 - val_loss: 0.5110 - val_accuracy: 0.7856\n",
            "Epoch 80/100\n",
            "335/335 [==============================] - 1s 3ms/step - loss: 0.5137 - accuracy: 0.7833 - val_loss: 0.5171 - val_accuracy: 0.7844\n",
            "Epoch 81/100\n",
            "335/335 [==============================] - 1s 3ms/step - loss: 0.5166 - accuracy: 0.7830 - val_loss: 0.5155 - val_accuracy: 0.7874\n",
            "Epoch 82/100\n",
            "335/335 [==============================] - 1s 3ms/step - loss: 0.5130 - accuracy: 0.7827 - val_loss: 0.5167 - val_accuracy: 0.7856\n",
            "Epoch 83/100\n",
            "335/335 [==============================] - 1s 3ms/step - loss: 0.5170 - accuracy: 0.7824 - val_loss: 0.5112 - val_accuracy: 0.7862\n",
            "Epoch 84/100\n",
            "335/335 [==============================] - 1s 3ms/step - loss: 0.5153 - accuracy: 0.7815 - val_loss: 0.5105 - val_accuracy: 0.7850\n",
            "Epoch 85/100\n",
            "335/335 [==============================] - 1s 3ms/step - loss: 0.5138 - accuracy: 0.7857 - val_loss: 0.5116 - val_accuracy: 0.7856\n",
            "Epoch 86/100\n",
            "335/335 [==============================] - 1s 3ms/step - loss: 0.5171 - accuracy: 0.7860 - val_loss: 0.5134 - val_accuracy: 0.7856\n",
            "Epoch 87/100\n",
            "335/335 [==============================] - 1s 3ms/step - loss: 0.5123 - accuracy: 0.7857 - val_loss: 0.5128 - val_accuracy: 0.7850\n",
            "Epoch 88/100\n",
            "335/335 [==============================] - 1s 3ms/step - loss: 0.5171 - accuracy: 0.7809 - val_loss: 0.5161 - val_accuracy: 0.7838\n",
            "Epoch 89/100\n",
            "335/335 [==============================] - 1s 3ms/step - loss: 0.5127 - accuracy: 0.7839 - val_loss: 0.5168 - val_accuracy: 0.7856\n",
            "Epoch 90/100\n",
            "335/335 [==============================] - 1s 3ms/step - loss: 0.5155 - accuracy: 0.7836 - val_loss: 0.5118 - val_accuracy: 0.7856\n",
            "Epoch 91/100\n",
            "335/335 [==============================] - 1s 3ms/step - loss: 0.5163 - accuracy: 0.7833 - val_loss: 0.5080 - val_accuracy: 0.7856\n",
            "Epoch 92/100\n",
            "335/335 [==============================] - 1s 3ms/step - loss: 0.5118 - accuracy: 0.7827 - val_loss: 0.5081 - val_accuracy: 0.7862\n",
            "Epoch 93/100\n",
            "335/335 [==============================] - 1s 3ms/step - loss: 0.5131 - accuracy: 0.7833 - val_loss: 0.5076 - val_accuracy: 0.7868\n",
            "Epoch 94/100\n",
            "335/335 [==============================] - 1s 3ms/step - loss: 0.5109 - accuracy: 0.7848 - val_loss: 0.5084 - val_accuracy: 0.7898\n",
            "Epoch 95/100\n",
            "335/335 [==============================] - 1s 3ms/step - loss: 0.5108 - accuracy: 0.7848 - val_loss: 0.5155 - val_accuracy: 0.7795\n",
            "Epoch 96/100\n",
            "335/335 [==============================] - 1s 3ms/step - loss: 0.5152 - accuracy: 0.7800 - val_loss: 0.5097 - val_accuracy: 0.7850\n",
            "Epoch 97/100\n",
            "335/335 [==============================] - 1s 3ms/step - loss: 0.5160 - accuracy: 0.7824 - val_loss: 0.5175 - val_accuracy: 0.7844\n",
            "Epoch 98/100\n",
            "335/335 [==============================] - 1s 3ms/step - loss: 0.5154 - accuracy: 0.7800 - val_loss: 0.5069 - val_accuracy: 0.7862\n",
            "Epoch 99/100\n",
            "335/335 [==============================] - 1s 3ms/step - loss: 0.5165 - accuracy: 0.7818 - val_loss: 0.5109 - val_accuracy: 0.7868\n",
            "Epoch 100/100\n",
            "335/335 [==============================] - 1s 3ms/step - loss: 0.5121 - accuracy: 0.7851 - val_loss: 0.5068 - val_accuracy: 0.7874\n"
          ]
        }
      ]
    },
    {
      "cell_type": "code",
      "source": [
        "import matplotlib.pyplot as plt\n",
        "# list all data in history\n",
        "print(history.history.keys())\n",
        "\n",
        "# summarize history for accuracy\n",
        "plt.plot(history.history['accuracy'],label='accuracy')\n",
        "plt.plot(history.history['val_accuracy'],label='val_accuracy')\n",
        "plt.title('model_accuracy')\n",
        "plt.ylabel('accuracy')\n",
        "plt.xlabel('epoch')\n",
        "plt.legend( ['train','test'],loc='upper right')\n",
        "plt.show()\n",
        "\n",
        "# summarize history for loss\n",
        "plt.plot(history.history['loss'],label='loss')\n",
        "plt.plot(history.history['val_loss'],label='val_loss')\n",
        "plt.title('model loss')\n",
        "plt.ylabel('loss')\n",
        "plt.xlabel('epoch')\n",
        "plt.legend(['train','test'],loc='upper right')\n",
        "plt.show"
      ],
      "metadata": {
        "id": "GJGac5GNUw8W",
        "colab": {
          "base_uri": "https://localhost:8080/",
          "height": 608
        },
        "outputId": "0db6d98f-2053-4715-9926-5a47f74bf76b"
      },
      "execution_count": 347,
      "outputs": [
        {
          "output_type": "stream",
          "name": "stdout",
          "text": [
            "dict_keys(['loss', 'accuracy', 'val_loss', 'val_accuracy'])\n"
          ]
        },
        {
          "output_type": "display_data",
          "data": {
            "text/plain": [
              "<Figure size 432x288 with 1 Axes>"
            ],
            "image/png": "[encoded data removed]"
          },
          "metadata": {
            "needs_background": "light"
          }
        },
        {
          "output_type": "execute_result",
          "data": {
            "text/plain": [
              "<function matplotlib.pyplot.show(*args, **kw)>"
            ]
          },
          "metadata": {},
          "execution_count": 347
        },
        {
          "output_type": "display_data",
          "data": {
            "text/plain": [
              "<Figure size 432x288 with 1 Axes>"
            ],
            "image/png": "[encoded data removed]"
          },
          "metadata": {
            "needs_background": "light"
          }
        }
      ]
    },
    {
      "cell_type": "markdown",
      "source": [
        "Evaluate the Model"
      ],
      "metadata": {
        "id": "S34hneCZoRYR"
      }
    },
    {
      "cell_type": "code",
      "source": [
        "score =model.evaluate(x,y)\n",
        "#print( 'Accuracy :%.2f' % (accuracy*100))\n",
        "print(\"%s: %.2f%%\" % (model.metrics_names[1], score[1]*100))"
      ],
      "metadata": {
        "id": "rc3UJXjhs-uH",
        "colab": {
          "base_uri": "https://localhost:8080/"
        },
        "outputId": "a392f3ea-5166-4462-c20b-5305a5945245"
      },
      "execution_count": 348,
      "outputs": [
        {
          "output_type": "stream",
          "name": "stdout",
          "text": [
            "157/157 [==============================] - 0s 1ms/step - loss: 0.5111 - accuracy: 0.7848\n",
            "accuracy: 78.48%\n"
          ]
        }
      ]
    }
  ]
}